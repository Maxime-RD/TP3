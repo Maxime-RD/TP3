{
 "cells": [
  {
   "cell_type": "code",
   "execution_count": null,
   "metadata": {},
   "outputs": [],
   "source": [
    "#Exercice 1: Questions préliminaires du TP\n",
    "#1. Qu'est ce qu'un service web?\n",
    "#2. Une API REST, qu'est-ce que c'est ?\n",
    "#3. Qu'est ce qu'une FastAPI?\n",
    "\n",
    "#1. Un Service Web est un programme informatique régissant les transferts de données entre plusieurs terminaux.\n",
    "#Le web est fondé sur une architecture REST (définie à la question 2) et résulte d'un protocole informatique utilisant des normes définies.\n",
    "\n",
    "#2. Pour expliquer la notion d'API REST, il convient de donner une explication à ces deux termes:\n",
    "\n",
    "# Une API (Application Programming Interface) est un ensemble de définitions et de protocoles conçus pour simplifier\n",
    "# l'édition et l'implémentation de logiciels d'applications. Il s'agit, en résumant, d'une demande d'information sur internet effectuée par un ordinateur.\n",
    "#En lien avec ce TP, Openstreetmap est justement une API utilisée pour la cartographie.\n",
    "\n",
    "#REST (REpresentational State Transfer) est un type d'architecture fondé sur plusieurs APIs. \n",
    "# Elle consiste alors à une série de contraintes appliquée au protocole web (comme HTTP) . Cela permet l'application de normes universelles.\n",
    "\n",
    "#3. FastAPI se définit comme une structure Web de hautes performances pour la création d'API. Elle s'applique sur la très récente version de Python 3.6.\n",
    "# Elle permet entre autre de plus nombreuses fonctionnalités comme la documentation automatique.\n",
    "\n",
    "\n",
    "\n",
    "#Sources\n",
    "#Ces sources ont servi d'inspiration pour appoerter une réponse pertinente et concise mais les réponses ont été adaptées avec le TP du webserver.\n",
    "#1. https://www.techno-science.net/definition/1462.html\n",
    "\n",
    "#2. https://api.gouv.fr/guides/api-definition\n",
    "#   https://www.redhat.com/fr/topics/api/what-is-a-rest-api\n",
    "#   https://www.mobizel.com/definition-cest-quoi-une-api/\n",
    "\n",
    "#3. https://fastapi.tiangolo.com/"
   ]
  },
  {
   "cell_type": "code",
   "execution_count": null,
   "metadata": {},
   "outputs": [],
   "source": []
  }
 ],
 "metadata": {
  "language_info": {
   "name": "python"
  },
  "orig_nbformat": 4
 },
 "nbformat": 4,
 "nbformat_minor": 2
}
